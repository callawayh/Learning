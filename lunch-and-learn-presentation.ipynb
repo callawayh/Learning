{
 "cells": [
  {
   "cell_type": "markdown",
   "metadata": {
    "slideshow": {
     "slide_type": "slide"
    }
   },
   "source": [
    "# Making your life easier with python, a lunchtime story\n",
    "\n",
    "#### By Callaway Holt\n",
    "\n",
    "<img width = \"300px\"  \n",
    "style=\"float: 10 px right;\" src=\"https://developers.redhat.com/blog/wp-content/uploads/2014/09/python-logo.png?w=300\">"
   ]
  },
  {
   "cell_type": "markdown",
   "metadata": {
    "slideshow": {
     "slide_type": "slide"
    }
   },
   "source": [
    "# What is Python? \n",
    "- High level programming language\n",
    "- Uses range from web development to data analysis\n",
    "- Stack Overflow developer survey ranks it second to JavaScript as most loved programming language\n",
    "- Known for being very readable"
   ]
  },
  {
   "cell_type": "code",
   "execution_count": null,
   "metadata": {
    "slideshow": {
     "slide_type": "subslide"
    }
   },
   "outputs": [],
   "source": [
    "%%js\n",
    "\n",
    "function myJSFunction(a, b) {\n",
    "    return a * b;\n",
    "}\n",
    "\n",
    "var a = 5;\n",
    "var b = 6;\n",
    "\n",
    "myJSFunction(a, b); "
   ]
  },
  {
   "cell_type": "code",
   "execution_count": null,
   "metadata": {
    "slideshow": {
     "slide_type": "subslide"
    }
   },
   "outputs": [],
   "source": [
    "def myPythonFunction(a,b):\n",
    "    return a*b\n",
    "\n",
    "a = 5\n",
    "b = 6\n",
    "\n",
    "myPythonFunction(a,b)"
   ]
  },
  {
   "cell_type": "markdown",
   "metadata": {
    "slideshow": {
     "slide_type": "slide"
    }
   },
   "source": [
    "# Why use Python for data work? \n",
    "- Its a general purpose language, meaning its easy to scale (as opposed to R) \n",
    "- It is very google-able\n",
    "- Lots of work in the data industry is being done with Python right now\n",
    "- Can make boring or complicated tasks easier with some pratice\n",
    "- Easier to impliment cool statistics than in excel (IMO) i.e. T-tests, correlations, simple predictive models\n",
    "\n",
    "#### Learning Curve\n",
    "\n",
    "<img width = \"400px\" height = \"400px\"\n",
    "style=\"float: 10 px left;\" src=\"https://www.researchgate.net/profile/Jonathan_Cook3/publication/6339231/figure/fig1/AS:341646639157255@1458466314944/Features-of-a-learning-curve.png\">"
   ]
  },
  {
   "cell_type": "markdown",
   "metadata": {
    "slideshow": {
     "slide_type": "slide"
    }
   },
   "source": [
    "# Python concept crash course\n",
    "\n",
    "- Variables\n",
    "- Lists\n",
    "- Dictonarys\n",
    "- Functions\n",
    "- Loops\n",
    "    - For\n",
    "    - While\n",
    "    "
   ]
  },
  {
   "cell_type": "markdown",
   "metadata": {
    "slideshow": {
     "slide_type": "subslide"
    }
   },
   "source": [
    "### Datatypes\n",
    "There are a few main datatypes in Python, were just going to build off of strings and numbers.\n",
    "\n",
    "Variables are an important concept. We can assign values that can be many different things to variables."
   ]
  },
  {
   "cell_type": "code",
   "execution_count": 1,
   "metadata": {
    "slideshow": {
     "slide_type": "subslide"
    }
   },
   "outputs": [
    {
     "name": "stdout",
     "output_type": "stream",
     "text": [
      "example\n"
     ]
    }
   ],
   "source": [
    "# we can show the values of variables\n",
    "\n",
    "variable_1 = 'example'\n",
    "\n",
    "print(variable_1)"
   ]
  },
  {
   "cell_type": "code",
   "execution_count": 2,
   "metadata": {
    "slideshow": {
     "slide_type": "subslide"
    }
   },
   "outputs": [
    {
     "data": {
      "text/plain": [
       "18"
      ]
     },
     "execution_count": 2,
     "metadata": {},
     "output_type": "execute_result"
    }
   ],
   "source": [
    "# we can also do operations with the values inside variables\n",
    "\n",
    "variable_2 = 3\n",
    "\n",
    "variable_3 = 6\n",
    "\n",
    "variable_2 * variable_3"
   ]
  },
  {
   "cell_type": "markdown",
   "metadata": {
    "slideshow": {
     "slide_type": "subslide"
    }
   },
   "source": [
    "### Lists\n",
    "A list is a collection of 'things' that can be ordered and is changeable. These things can be everything from numbers, strings, variables, other lists, etc. \n",
    "\n",
    "###### A list is denoted by \" [ ] \""
   ]
  },
  {
   "cell_type": "code",
   "execution_count": 3,
   "metadata": {
    "slideshow": {
     "slide_type": "subslide"
    }
   },
   "outputs": [
    {
     "name": "stdout",
     "output_type": "stream",
     "text": [
      "[1, 2, 3, 4]\n"
     ]
    }
   ],
   "source": [
    "# list of numbers\n",
    "list_1 = [1,2,3,4]\n",
    "\n",
    "print(list_1)"
   ]
  },
  {
   "cell_type": "code",
   "execution_count": 4,
   "metadata": {
    "slideshow": {
     "slide_type": "subslide"
    }
   },
   "outputs": [
    {
     "name": "stdout",
     "output_type": "stream",
     "text": [
      "['a', 'b', 'c', 'd']\n"
     ]
    }
   ],
   "source": [
    "# list of strings\n",
    "list_2 = ['a','b','c','d']\n",
    "\n",
    "print(list_2)"
   ]
  },
  {
   "cell_type": "code",
   "execution_count": 5,
   "metadata": {
    "slideshow": {
     "slide_type": "subslide"
    }
   },
   "outputs": [
    {
     "name": "stdout",
     "output_type": "stream",
     "text": [
      "['Sam', 'Sarah', 2, 88]\n"
     ]
    }
   ],
   "source": [
    "# list of vars\n",
    "value_1 = 'Sam'\n",
    "value_2 = 'Sarah'\n",
    "value_3 = 2\n",
    "value_4 = 88\n",
    "\n",
    "list_3 = [value_1,value_2,value_3,value_4]\n",
    "\n",
    "print(list_3)"
   ]
  },
  {
   "cell_type": "markdown",
   "metadata": {
    "slideshow": {
     "slide_type": "subslide"
    }
   },
   "source": [
    "### Dictonary\n",
    "\n",
    "A collection of 'things' that is stored under a key. Can be a variety of things like with lists\n",
    "\n",
    "\n",
    "###### A dictonary is denoted by \" { } \" "
   ]
  },
  {
   "cell_type": "code",
   "execution_count": 7,
   "metadata": {
    "slideshow": {
     "slide_type": "subslide"
    }
   },
   "outputs": [
    {
     "data": {
      "text/plain": [
       "[1, 2, 3]"
      ]
     },
     "execution_count": 7,
     "metadata": {},
     "output_type": "execute_result"
    }
   ],
   "source": [
    "dict_1 = {'key1':[1,2,3], \n",
    "         'key2':['Bob','Bart','Bruce']}\n",
    "\n",
    "dict_1['key1']\n"
   ]
  },
  {
   "cell_type": "code",
   "execution_count": 8,
   "metadata": {
    "slideshow": {
     "slide_type": "subslide"
    }
   },
   "outputs": [
    {
     "data": {
      "text/plain": [
       "['Bob', 'Bart', 'Bruce']"
      ]
     },
     "execution_count": 8,
     "metadata": {},
     "output_type": "execute_result"
    }
   ],
   "source": [
    "dict_1['key2']"
   ]
  },
  {
   "cell_type": "markdown",
   "metadata": {
    "slideshow": {
     "slide_type": "subslide"
    }
   },
   "source": [
    "# Functions\n",
    "\n",
    "A function is a block of code which only runs when it is called. You can pass variables known as parameters into it."
   ]
  },
  {
   "cell_type": "markdown",
   "metadata": {
    "slideshow": {
     "slide_type": "subslide"
    }
   },
   "source": [
    "### Example of a function we all know\n",
    "\n",
    "$Y = Mx+B$\n",
    "\n",
    "So if you had:\n",
    "\n",
    "$Y = 3x+4$\n",
    "\n",
    "For any X that is a real number you could have a Y "
   ]
  },
  {
   "cell_type": "code",
   "execution_count": 10,
   "metadata": {
    "slideshow": {
     "slide_type": "subslide"
    }
   },
   "outputs": [],
   "source": [
    "def mathFN(x):\n",
    "    y = 3*x+4\n",
    "    return y"
   ]
  },
  {
   "cell_type": "markdown",
   "metadata": {},
   "source": [
    "- Notice how nothing happened\n",
    "- We have only defined the function"
   ]
  },
  {
   "cell_type": "code",
   "execution_count": 11,
   "metadata": {
    "slideshow": {
     "slide_type": "subslide"
    }
   },
   "outputs": [
    {
     "data": {
      "text/plain": [
       "13"
      ]
     },
     "execution_count": 11,
     "metadata": {},
     "output_type": "execute_result"
    }
   ],
   "source": [
    "# Call the function \n",
    "\n",
    "mathFN(3)"
   ]
  },
  {
   "cell_type": "code",
   "execution_count": 12,
   "metadata": {
    "slideshow": {
     "slide_type": "subslide"
    }
   },
   "outputs": [
    {
     "data": {
      "text/plain": [
       "130"
      ]
     },
     "execution_count": 12,
     "metadata": {},
     "output_type": "execute_result"
    }
   ],
   "source": [
    "mathFN(42)"
   ]
  },
  {
   "cell_type": "code",
   "execution_count": 13,
   "metadata": {
    "slideshow": {
     "slide_type": "subslide"
    }
   },
   "outputs": [],
   "source": [
    "def heyFriend(name):\n",
    "    print('Hey '+name)"
   ]
  },
  {
   "cell_type": "code",
   "execution_count": 15,
   "metadata": {
    "slideshow": {
     "slide_type": "subslide"
    }
   },
   "outputs": [
    {
     "name": "stdout",
     "output_type": "stream",
     "text": [
      "Hey Scott\n"
     ]
    }
   ],
   "source": [
    "heyFriend('Scott')"
   ]
  },
  {
   "cell_type": "markdown",
   "metadata": {
    "slideshow": {
     "slide_type": "subslide"
    }
   },
   "source": [
    "### Loops\n",
    "\n",
    "Loops are a cool concept. They help do something for every value.\n",
    "\n",
    "there are a few main kinds. Two are:\n",
    "- for\n",
    "  - think \"for every item, I will do something\"\n",
    "- while\n",
    "  - think \"while this statement is true, I will keep doing something\""
   ]
  },
  {
   "cell_type": "code",
   "execution_count": 19,
   "metadata": {
    "slideshow": {
     "slide_type": "subslide"
    }
   },
   "outputs": [
    {
     "name": "stdout",
     "output_type": "stream",
     "text": [
      "3*4+4 =  4\n",
      "3*7+4 =  7\n",
      "3*10+4 =  10\n",
      "3*13+4 =  13\n",
      "3*16+4 =  16\n"
     ]
    }
   ],
   "source": [
    "for number in range(0,5):\n",
    "    y = 3*number+4\n",
    "    print('3*{}+4 = '.format(y), y)"
   ]
  },
  {
   "cell_type": "code",
   "execution_count": 20,
   "metadata": {
    "slideshow": {
     "slide_type": "subslide"
    }
   },
   "outputs": [
    {
     "name": "stdout",
     "output_type": "stream",
     "text": [
      "1\n",
      "2\n",
      "3\n",
      "4\n",
      "5\n",
      "6\n",
      "7\n",
      "8\n",
      "9\n",
      "10\n"
     ]
    }
   ],
   "source": [
    "i = 0\n",
    "while i < 10:\n",
    "    i += 1 # add 1 each iteration\n",
    "    print(i)\n",
    "    "
   ]
  },
  {
   "cell_type": "code",
   "execution_count": 25,
   "metadata": {
    "slideshow": {
     "slide_type": "subslide"
    }
   },
   "outputs": [
    {
     "name": "stdout",
     "output_type": "stream",
     "text": [
      "1\n",
      "2\n",
      "3\n",
      "4\n",
      "5\n",
      "6\n",
      "7\n",
      "8\n",
      "9\n",
      "10\n"
     ]
    }
   ],
   "source": [
    "i = 0\n",
    "while i < 10:\n",
    "    i += 1\n",
    "    print(i)"
   ]
  },
  {
   "cell_type": "code",
   "execution_count": 49,
   "metadata": {
    "slideshow": {
     "slide_type": "subslide"
    }
   },
   "outputs": [],
   "source": [
    "while y <= 10:\n",
    "    for item in range(0,5):\n",
    "        y = 3*item+4\n",
    "        print('3*'+str(item) +'+4 = ',y)"
   ]
  },
  {
   "cell_type": "code",
   "execution_count": null,
   "metadata": {
    "slideshow": {
     "slide_type": "-"
    }
   },
   "outputs": [],
   "source": []
  }
 ],
 "metadata": {
  "celltoolbar": "Slideshow",
  "kernelspec": {
   "display_name": "Python 3",
   "language": "python",
   "name": "python3"
  },
  "language_info": {
   "codemirror_mode": {
    "name": "ipython",
    "version": 3
   },
   "file_extension": ".py",
   "mimetype": "text/x-python",
   "name": "python",
   "nbconvert_exporter": "python",
   "pygments_lexer": "ipython3",
   "version": "3.7.3"
  }
 },
 "nbformat": 4,
 "nbformat_minor": 2
}
